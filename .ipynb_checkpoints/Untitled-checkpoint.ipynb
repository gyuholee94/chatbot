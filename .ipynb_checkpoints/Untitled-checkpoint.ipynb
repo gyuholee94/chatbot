{
 "cells": [
  {
   "cell_type": "code",
   "execution_count": 1,
   "metadata": {
    "scrolled": true
   },
   "outputs": [
    {
     "name": "stdout",
     "output_type": "stream",
     "text": [
      "파워레인저\tNNP,*,F,파워레인저,*,*,*,*\n",
      "메\tNNP,인명,F,메,*,*,*,*\n",
      "캅\tNNP,인명,T,캅,*,*,*,*\n",
      "포스\tNNG,*,F,포스,*,*,*,*\n",
      "가\tJKS,*,F,가,*,*,*,*\n",
      "잘\tMAG,*,T,잘,*,*,*,*\n",
      "설치\tNNG,행위,F,설치,*,*,*,*\n",
      "되\tXSV,*,F,되,*,*,*,*\n",
      "었\tEP,*,T,었,*,*,*,*\n",
      "는지\tEC,*,F,는지,*,*,*,*\n",
      "확인\tNNG,행위,T,확인,*,*,*,*\n",
      "해\tXSV+EC,*,F,해,Inflect,XSV,EC,하/XSV/*+아/EC/*\n",
      "보\tVX,*,F,보,*,*,*,*\n",
      "자\tEF,*,F,자,*,*,*,*\n",
      "!\tSF,*,*,*,*,*,*,*\n",
      "EOS\n",
      "\n"
     ]
    }
   ],
   "source": [
    "import MeCab\n",
    "m = MeCab.Tagger()\n",
    "out = m.parse('파워레인저 메캅포스가 잘 설치되었는지 확인해보자!')\n",
    "print(out)"
   ]
  },
  {
   "cell_type": "code",
   "execution_count": 2,
   "metadata": {},
   "outputs": [
    {
     "name": "stdout",
     "output_type": "stream",
     "text": [
      "['지금', '코엔', '코엔엘파이', '엘', '파이', '형태소', '분석기', '사용', '사용중', '중', '교회', '교회가기', '가기', '전', '설치', '다행', '생각']\n"
     ]
    }
   ],
   "source": [
    "from konlpy.tag import Kkma\n",
    "Kkma_pos = Kkma()\n",
    "K_nouns = Kkma_pos.nouns('지금 코엔엘파이 형태소 분석기를 사용중이며, 교회가기 전에 설치되어서 다행이라고 생각하고 있습니다.')\n",
    "print(K_nouns)"
   ]
  },
  {
   "cell_type": "code",
   "execution_count": 3,
   "metadata": {},
   "outputs": [],
   "source": [
    "import nltk"
   ]
  },
  {
   "cell_type": "code",
   "execution_count": null,
   "metadata": {},
   "outputs": [],
   "source": []
  },
  {
   "cell_type": "code",
   "execution_count": null,
   "metadata": {},
   "outputs": [],
   "source": []
  }
 ],
 "metadata": {
  "kernelspec": {
   "display_name": "Python 3",
   "language": "python",
   "name": "python3"
  },
  "language_info": {
   "codemirror_mode": {
    "name": "ipython",
    "version": 3
   },
   "file_extension": ".py",
   "mimetype": "text/x-python",
   "name": "python",
   "nbconvert_exporter": "python",
   "pygments_lexer": "ipython3",
   "version": "3.8.5"
  }
 },
 "nbformat": 4,
 "nbformat_minor": 4
}
